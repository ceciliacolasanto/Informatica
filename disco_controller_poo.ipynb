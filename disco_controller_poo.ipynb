{
 "cells": [
  {
   "cell_type": "code",
   "execution_count": 43,
   "metadata": {
    "id": "X7aTj0aWNjxW",
    "scrolled": true
   },
   "outputs": [],
   "source": [
    "from clase_disco import Disco\n",
    "import sqlite3\n",
    "\n",
    "DISCOS_DB = \"discos.db\"\n",
    "\n",
    "def get_db():\n",
    "    conn = sqlite3.connect(DISCOS_DB)\n",
    "    return conn\n",
    "\n",
    "\n",
    "def create_tables():\n",
    "    tables = [\n",
    "        \"\"\"CREATE TABLE IF NOT EXISTS discos(\n",
    "                id INTEGER PRIMARY KEY,\n",
    "                titulo TEXT NOT NULL,\n",
    "                artista TEXT NOT NULL,\n",
    "                precio REAL NOT NULL,\n",
    "                fecha INTEGER NOT NULL,\n",
    "                idioma TEXT NOT NULL,\n",
    "                n_canciones INTEGER NOT NULL,\n",
    "                genero TEXT NOT NULL\n",
    "            )\n",
    "            \"\"\"\n",
    "    ]\n",
    "    db = get_db()\n",
    "    cursor = db.cursor()\n",
    "    for table in tables:\n",
    "        cursor.execute(table)\n",
    "\n",
    "        \n",
    "def insert_disco(id, titulo, artista, precio, fecha, idioma, n_canciones, genero):\n",
    "    db = get_db()\n",
    "    cursor = db.cursor()\n",
    "    statement = \"INSERT INTO discos (id, titulo, artista, precio, fecha, idioma, n_canciones, genero) \\\n",
    "    VALUES ( ?, ?, ?, ? ,?, ?, ?, ?)\"\n",
    "    cursor.execute(statement, [id, titulo, artista, precio, fecha, idioma, n_canciones, genero])\n",
    "    db.commit()\n",
    "    return True\n",
    "\n",
    "\n",
    "def update_disco(id, titulo, artista, precio, fecha, idioma, n_canciones, genero):\n",
    "    db = get_db()\n",
    "    cursor = db.cursor()\n",
    "    statement = \"UPDATE discos SET titulo = ?, artista = ?, precio= ?, fecha= ?, idioma= ?, n_canciones= ?, \\\n",
    "    genero= ?\"\n",
    "    cursor.execute(statement, [titulo, artista, precio, fecha, idioma, n_canciones, genero])\n",
    "    db.commit()\n",
    "    return True\n",
    "\n",
    "\n",
    "def delete_disco(id):\n",
    "    db = get_db()\n",
    "    cursor = db.cursor()\n",
    "    statement = \"DELETE FROM discos WHERE id = ?\"\n",
    "    cursor.execute(statement, [id])\n",
    "    db.commit()\n",
    "    return True\n",
    "\n",
    "\n",
    "def get_by_id(id):\n",
    "    db = get_db()\n",
    "    cursor = db.cursor()\n",
    "    statement = \"SELECT id, titulo, artista, precio, fecha, idioma, n_canciones, genero FROM discos WHERE id = ?\"\n",
    "    cursor.execute(statement, [id])\n",
    "    single_disco = cursor.fetchone()\n",
    "    id = single_disco[0]\n",
    "    titulo = single_disco[1]\n",
    "    artista = single_disco[2]\n",
    "    precio = single_disco[3]\n",
    "    fecha = single_disco[4]\n",
    "    idioma = single_disco[5]\n",
    "    n_canciones = single_disco[6]\n",
    "    genero = single_disco[7]\n",
    "    disco = Disco(id, titulo, artista, precio, fecha, idioma, n_canciones, genero)\n",
    "    return disco.describe_details()\n",
    "\n",
    "\n",
    "def get_discos():\n",
    "    db = get_db()\n",
    "    cursor = db.cursor()\n",
    "    query = \"SELECT id, titulo, artista, precio, fecha, idioma, n_canciones, genero FROM discos\"\n",
    "    cursor.execute(query)\n",
    "    discos_list = cursor.fetchall()\n",
    "    list_of_discos=[]\n",
    "    for disco in discos_list:\n",
    "        id = disco[0]\n",
    "        titulo = disco[1]\n",
    "        artista = disco[2]\n",
    "        precio = disco[3]\n",
    "        fecha = disco[4]\n",
    "        idioma = disco[5]\n",
    "        n_canciones = disco[6]\n",
    "        genero = disco[7]\n",
    "        disco_to_add = Disco(id, titulo, artista, precio, fecha, idioma, n_canciones, genero)\n",
    "        list_of_discos.append(disco_to_add)\n",
    "    return list_of_discos\n"
   ]
  },
  {
   "cell_type": "code",
   "execution_count": 44,
   "metadata": {
    "id": "NzKa7QLb5cSK",
    "outputId": "738d7647-6ca0-4f43-bb03-02f7a5db6f00"
   },
   "outputs": [
    {
     "name": "stdout",
     "output_type": "stream",
     "text": [
      "Requirement already satisfied: spotify in /Users/ceciperezc/anaconda3/lib/python3.11/site-packages (0.10.2)\n",
      "Requirement already satisfied: aiohttp<4.0,>=3.6 in /Users/ceciperezc/anaconda3/lib/python3.11/site-packages (from spotify) (3.8.5)\n",
      "Requirement already satisfied: backoff<2.0.0,>=1.10.0 in /Users/ceciperezc/anaconda3/lib/python3.11/site-packages (from spotify) (1.11.1)\n",
      "Requirement already satisfied: attrs>=17.3.0 in /Users/ceciperezc/anaconda3/lib/python3.11/site-packages (from aiohttp<4.0,>=3.6->spotify) (22.1.0)\n",
      "Requirement already satisfied: charset-normalizer<4.0,>=2.0 in /Users/ceciperezc/anaconda3/lib/python3.11/site-packages (from aiohttp<4.0,>=3.6->spotify) (2.0.4)\n",
      "Requirement already satisfied: multidict<7.0,>=4.5 in /Users/ceciperezc/anaconda3/lib/python3.11/site-packages (from aiohttp<4.0,>=3.6->spotify) (6.0.2)\n",
      "Requirement already satisfied: async-timeout<5.0,>=4.0.0a3 in /Users/ceciperezc/anaconda3/lib/python3.11/site-packages (from aiohttp<4.0,>=3.6->spotify) (4.0.2)\n",
      "Requirement already satisfied: yarl<2.0,>=1.0 in /Users/ceciperezc/anaconda3/lib/python3.11/site-packages (from aiohttp<4.0,>=3.6->spotify) (1.8.1)\n",
      "Requirement already satisfied: frozenlist>=1.1.1 in /Users/ceciperezc/anaconda3/lib/python3.11/site-packages (from aiohttp<4.0,>=3.6->spotify) (1.3.3)\n",
      "Requirement already satisfied: aiosignal>=1.1.2 in /Users/ceciperezc/anaconda3/lib/python3.11/site-packages (from aiohttp<4.0,>=3.6->spotify) (1.2.0)\n",
      "Requirement already satisfied: idna>=2.0 in /Users/ceciperezc/anaconda3/lib/python3.11/site-packages (from yarl<2.0,>=1.0->aiohttp<4.0,>=3.6->spotify) (3.4)\n",
      "Note: you may need to restart the kernel to use updated packages.\n"
     ]
    }
   ],
   "source": [
    "pip install spotify"
   ]
  },
  {
   "cell_type": "code",
   "execution_count": 45,
   "metadata": {
    "id": "AmZY01FVvvUj",
    "outputId": "65d6378c-ff34-4039-a75e-54fe9b5b57da"
   },
   "outputs": [
    {
     "name": "stdout",
     "output_type": "stream",
     "text": [
      "Requirement already satisfied: spotipy in /Users/ceciperezc/anaconda3/lib/python3.11/site-packages (2.23.0)\n",
      "Requirement already satisfied: redis>=3.5.3 in /Users/ceciperezc/anaconda3/lib/python3.11/site-packages (from spotipy) (5.0.1)\n",
      "Requirement already satisfied: requests>=2.25.0 in /Users/ceciperezc/anaconda3/lib/python3.11/site-packages (from spotipy) (2.31.0)\n",
      "Requirement already satisfied: six>=1.15.0 in /Users/ceciperezc/anaconda3/lib/python3.11/site-packages (from spotipy) (1.16.0)\n",
      "Requirement already satisfied: urllib3>=1.26.0 in /Users/ceciperezc/anaconda3/lib/python3.11/site-packages (from spotipy) (1.26.16)\n",
      "Requirement already satisfied: charset-normalizer<4,>=2 in /Users/ceciperezc/anaconda3/lib/python3.11/site-packages (from requests>=2.25.0->spotipy) (2.0.4)\n",
      "Requirement already satisfied: idna<4,>=2.5 in /Users/ceciperezc/anaconda3/lib/python3.11/site-packages (from requests>=2.25.0->spotipy) (3.4)\n",
      "Requirement already satisfied: certifi>=2017.4.17 in /Users/ceciperezc/anaconda3/lib/python3.11/site-packages (from requests>=2.25.0->spotipy) (2023.7.22)\n",
      "Note: you may need to restart the kernel to use updated packages.\n"
     ]
    }
   ],
   "source": [
    "pip install spotipy --upgrade"
   ]
  },
  {
   "cell_type": "code",
   "execution_count": 46,
   "metadata": {
    "id": "jSGSZ-bqvvZU"
   },
   "outputs": [],
   "source": [
    "import spotipy\n",
    "from spotipy.oauth2 import SpotifyClientCredentials"
   ]
  },
  {
   "cell_type": "code",
   "execution_count": 47,
   "metadata": {
    "id": "ZtEMLES3vzGs",
    "outputId": "be749450-ccfc-4d44-eb3b-166cc3ecdbf5"
   },
   "outputs": [],
   "source": [
    "def consultar_canciones(nombre_album):\n",
    "    clientID = '451920e7f5404190bb01798fb5ca0374'\n",
    "    clientSecret = '196facfb0eab4ceba79aeda2e8cbf98f'\n",
    "    \n",
    "    client_credential_manager = SpotifyClientCredentials(client_id=clientID, client_secret=clientSecret)\n",
    "    sp = spotipy.Spotify(client_credentials_manager=client_credential_manager)\n",
    "    \n",
    "    resultados = sp.search(q=f'album:\"{nombre_album}\"', type='album')\n",
    "    \n",
    "    if 'albums' in resultados:\n",
    "        items = resultados['albums'].get('items', [])\n",
    "        if items:\n",
    "            album_id = items[0]['id']\n",
    "            dic = sp.album_tracks(f'spotify:album:{album_id}')\n",
    "            list_info_canciones = dic.get('items', [])\n",
    "            if list_info_canciones:\n",
    "                lista = [cancion['name'] for cancion in list_info_canciones]\n",
    "                return lista\n",
    "    else:\n",
    "        return f\"No se encontraron resultados para el álbum '{nombre_album}'\""
   ]
  },
  {
   "cell_type": "code",
   "execution_count": null,
   "metadata": {
    "id": "yHpbyoIGnZ6k",
    "outputId": "7a703110-ad97-4ec5-9e6e-9e13d5904049"
   },
   "outputs": [
    {
     "name": "stdout",
     "output_type": "stream",
     "text": [
      " * Serving Flask app '__main__'\n",
      " * Debug mode: off\n"
     ]
    },
    {
     "name": "stderr",
     "output_type": "stream",
     "text": [
      "WARNING: This is a development server. Do not use it in a production deployment. Use a production WSGI server instead.\n",
      " * Running on http://127.0.0.1:5000\n",
      "Press CTRL+C to quit\n",
      "127.0.0.1 - - [12/Nov/2023 16:19:07] \"GET /disco/songs/rfjnrjfwdñ HTTP/1.1\" 200 -\n",
      "127.0.0.1 - - [12/Nov/2023 16:19:13] \"GET /disco/songs/cupido HTTP/1.1\" 200 -\n"
     ]
    }
   ],
   "source": [
    "from flask import Flask, jsonify, request\n",
    "app = Flask(__name__)\n",
    "\n",
    "\n",
    "@app.route('/disco', methods=[\"GET\"])\n",
    "def get_disco():\n",
    "    discos = get_discos()\n",
    "    disco_list=[]\n",
    "    for disco in discos:\n",
    "        elem = disco.describe()\n",
    "        disco_list.append(elem)\n",
    "    return jsonify(disco_list)\n",
    "\n",
    "@app.route(\"/disco/create\", methods=[\"POST\"])\n",
    "def insertar_disco():\n",
    "    disco_details = request.get_json()\n",
    "    id = disco_details[\"id\"]\n",
    "    titulo = disco_details[\"titulo\"]\n",
    "    artista =disco_details[\"artista\"]\n",
    "    precio = disco_details[\"precio\"]\n",
    "    fecha = disco_details[\"fecha\"]\n",
    "    idioma = disco_details[\"idioma\"]\n",
    "    n_canciones = disco_details[\"n_canciones\"]\n",
    "    genero = disco_details [\"genero\"]\n",
    "    result = insert_disco(id,titulo,artista,precio,fecha,idioma, n_canciones, genero)\n",
    "    return jsonify(result)\n",
    "\n",
    "\n",
    "@app.route(\"/disco/modify\", methods=[\"PUT\"])\n",
    "def update_disco_db():\n",
    "    disco_details = request.get_json()\n",
    "    id = disco_details[\"id\"]\n",
    "    titulo = disco_details[\"titulo\"]\n",
    "    artista =disco_details[\"artista\"]\n",
    "    precio = disco_details[\"precio\"]\n",
    "    fecha = disco_details[\"fecha\"]\n",
    "    idioma = disco_details[\"idioma\"]\n",
    "    n_canciones = disco_details[\"n_canciones\"]\n",
    "    genero = disco_details[\"genero\"]\n",
    "    result = update_disco(id,titulo,artista,precio,fecha,idioma, n_canciones, genero)\n",
    "    return jsonify(result)\n",
    "\n",
    "\n",
    "@app.route(\"/disco/eliminate/<id>\", methods=[\"DELETE\"])\n",
    "def delete_disco_db(id):\n",
    "    result = delete_disco(id)\n",
    "    return jsonify(result)\n",
    "\n",
    "\n",
    "@app.route(\"/disco/<id>\", methods=[\"GET\"])\n",
    "def get_disco_by_id_db(id):\n",
    "    disco = get_by_id(id)\n",
    "    return jsonify(disco)\n",
    "\n",
    "    \n",
    "@app.route(\"/disco/songs/<titulo>\", methods=[\"GET\"])\n",
    "def get_disco_by_titulo_songs(titulo):\n",
    "    canciones = consultar_canciones(titulo)\n",
    "    return jsonify(canciones)\n",
    "\n",
    "create_tables()\n",
    "\n",
    "app.run()"
   ]
  }
 ],
 "metadata": {
  "colab": {
   "provenance": []
  },
  "kernelspec": {
   "display_name": "Python 3 (ipykernel)",
   "language": "python",
   "name": "python3"
  },
  "language_info": {
   "codemirror_mode": {
    "name": "ipython",
    "version": 3
   },
   "file_extension": ".py",
   "mimetype": "text/x-python",
   "name": "python",
   "nbconvert_exporter": "python",
   "pygments_lexer": "ipython3",
   "version": "3.11.5"
  }
 },
 "nbformat": 4,
 "nbformat_minor": 1
}
