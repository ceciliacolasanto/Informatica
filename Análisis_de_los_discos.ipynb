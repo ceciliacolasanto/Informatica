{
  "cells": [
    {
      "cell_type": "code",
      "execution_count": null,
      "id": "b3facefa",
      "metadata": {
        "id": "b3facefa"
      },
      "outputs": [],
      "source": [
        "import pandas as pd\n",
        "import matplotlib.pyplot as plt\n",
        "import seaborn as sns\n",
        "import numpy as np\n",
        "import os\n",
        "import re\n",
        "import csv\n",
        "import statsmodels.formula.api as smf"
      ]
    },
    {
      "cell_type": "code",
      "execution_count": null,
      "id": "1acc43e2",
      "metadata": {
        "id": "1acc43e2"
      },
      "outputs": [],
      "source": [
        "df = pd.read_csv('album_datos1.txt')"
      ]
    },
    {
      "cell_type": "code",
      "execution_count": null,
      "id": "27fd3acb",
      "metadata": {
        "id": "27fd3acb",
        "outputId": "a69d8308-8fa0-45cd-f57b-364dc1b3e97e"
      },
      "outputs": [
        {
          "data": {
            "text/html": [
              "<div>\n",
              "<style scoped>\n",
              "    .dataframe tbody tr th:only-of-type {\n",
              "        vertical-align: middle;\n",
              "    }\n",
              "\n",
              "    .dataframe tbody tr th {\n",
              "        vertical-align: top;\n",
              "    }\n",
              "\n",
              "    .dataframe thead th {\n",
              "        text-align: right;\n",
              "    }\n",
              "</style>\n",
              "<table border=\"1\" class=\"dataframe\">\n",
              "  <thead>\n",
              "    <tr style=\"text-align: right;\">\n",
              "      <th></th>\n",
              "      <th>id</th>\n",
              "      <th>titulo</th>\n",
              "      <th>artista</th>\n",
              "      <th>precio</th>\n",
              "      <th>fecha</th>\n",
              "      <th>idioma</th>\n",
              "      <th>n_canciones</th>\n",
              "      <th>genero</th>\n",
              "    </tr>\n",
              "  </thead>\n",
              "  <tbody>\n",
              "    <tr>\n",
              "      <th>0</th>\n",
              "      <td>1</td>\n",
              "      <td>Divide</td>\n",
              "      <td>Ed Sheeran</td>\n",
              "      <td>5000</td>\n",
              "      <td>2017</td>\n",
              "      <td>EN</td>\n",
              "      <td>16</td>\n",
              "      <td>Pop</td>\n",
              "    </tr>\n",
              "    <tr>\n",
              "      <th>1</th>\n",
              "      <td>2</td>\n",
              "      <td>A Contraluz</td>\n",
              "      <td>La Vela Puerca</td>\n",
              "      <td>7500</td>\n",
              "      <td>2004</td>\n",
              "      <td>ES</td>\n",
              "      <td>14</td>\n",
              "      <td>Rock Nacional</td>\n",
              "    </tr>\n",
              "    <tr>\n",
              "      <th>2</th>\n",
              "      <td>3</td>\n",
              "      <td>Tú crees en mi?</td>\n",
              "      <td>Emilia</td>\n",
              "      <td>4200</td>\n",
              "      <td>2022</td>\n",
              "      <td>ES</td>\n",
              "      <td>8</td>\n",
              "      <td>Urbano Latino</td>\n",
              "    </tr>\n",
              "    <tr>\n",
              "      <th>3</th>\n",
              "      <td>4</td>\n",
              "      <td>Cupido - TINI</td>\n",
              "      <td>Tini Stossel</td>\n",
              "      <td>5600</td>\n",
              "      <td>2023</td>\n",
              "      <td>ES</td>\n",
              "      <td>10</td>\n",
              "      <td>Pop</td>\n",
              "    </tr>\n",
              "    <tr>\n",
              "      <th>4</th>\n",
              "      <td>5</td>\n",
              "      <td>Funk Generation: A Favela Love Story</td>\n",
              "      <td>Annita</td>\n",
              "      <td>3200</td>\n",
              "      <td>2023</td>\n",
              "      <td>POR</td>\n",
              "      <td>3</td>\n",
              "      <td>Electro Pop</td>\n",
              "    </tr>\n",
              "  </tbody>\n",
              "</table>\n",
              "</div>"
            ],
            "text/plain": [
              "   id                                titulo         artista  precio  fecha  \\\n",
              "0   1                                Divide      Ed Sheeran    5000   2017   \n",
              "1   2                           A Contraluz  La Vela Puerca    7500   2004   \n",
              "2   3                       Tú crees en mi?          Emilia    4200   2022   \n",
              "3   4                         Cupido - TINI    Tini Stossel    5600   2023   \n",
              "4   5  Funk Generation: A Favela Love Story          Annita    3200   2023   \n",
              "\n",
              "  idioma  n_canciones         genero  \n",
              "0     EN           16            Pop  \n",
              "1     ES           14  Rock Nacional  \n",
              "2     ES            8  Urbano Latino  \n",
              "3     ES           10            Pop  \n",
              "4    POR            3    Electro Pop  "
            ]
          },
          "execution_count": 13,
          "metadata": {},
          "output_type": "execute_result"
        }
      ],
      "source": [
        "#Vemos las primeras filas del df\n",
        "df.head()"
      ]
    },
    {
      "cell_type": "code",
      "execution_count": null,
      "id": "aa84ed96",
      "metadata": {
        "id": "aa84ed96",
        "outputId": "0edd9751-be08-42dd-b2aa-7507b83ed23d"
      },
      "outputs": [
        {
          "data": {
            "text/html": [
              "<div>\n",
              "<style scoped>\n",
              "    .dataframe tbody tr th:only-of-type {\n",
              "        vertical-align: middle;\n",
              "    }\n",
              "\n",
              "    .dataframe tbody tr th {\n",
              "        vertical-align: top;\n",
              "    }\n",
              "\n",
              "    .dataframe thead th {\n",
              "        text-align: right;\n",
              "    }\n",
              "</style>\n",
              "<table border=\"1\" class=\"dataframe\">\n",
              "  <thead>\n",
              "    <tr style=\"text-align: right;\">\n",
              "      <th></th>\n",
              "      <th>id</th>\n",
              "      <th>titulo</th>\n",
              "      <th>artista</th>\n",
              "      <th>precio</th>\n",
              "      <th>fecha</th>\n",
              "      <th>idioma</th>\n",
              "      <th>n_canciones</th>\n",
              "      <th>genero</th>\n",
              "    </tr>\n",
              "  </thead>\n",
              "  <tbody>\n",
              "    <tr>\n",
              "      <th>0</th>\n",
              "      <td>1</td>\n",
              "      <td>Divide</td>\n",
              "      <td>Ed Sheeran</td>\n",
              "      <td>5000</td>\n",
              "      <td>2017</td>\n",
              "      <td>EN</td>\n",
              "      <td>16</td>\n",
              "      <td>Pop</td>\n",
              "    </tr>\n",
              "    <tr>\n",
              "      <th>1</th>\n",
              "      <td>2</td>\n",
              "      <td>A Contraluz</td>\n",
              "      <td>La Vela Puerca</td>\n",
              "      <td>7500</td>\n",
              "      <td>2004</td>\n",
              "      <td>ES</td>\n",
              "      <td>14</td>\n",
              "      <td>Rock Nacional</td>\n",
              "    </tr>\n",
              "    <tr>\n",
              "      <th>2</th>\n",
              "      <td>3</td>\n",
              "      <td>Tú crees en mi?</td>\n",
              "      <td>Emilia</td>\n",
              "      <td>4200</td>\n",
              "      <td>2022</td>\n",
              "      <td>ES</td>\n",
              "      <td>8</td>\n",
              "      <td>Urbano Latino</td>\n",
              "    </tr>\n",
              "    <tr>\n",
              "      <th>3</th>\n",
              "      <td>4</td>\n",
              "      <td>Cupido - TINI</td>\n",
              "      <td>Tini Stossel</td>\n",
              "      <td>5600</td>\n",
              "      <td>2023</td>\n",
              "      <td>ES</td>\n",
              "      <td>10</td>\n",
              "      <td>Pop</td>\n",
              "    </tr>\n",
              "    <tr>\n",
              "      <th>4</th>\n",
              "      <td>5</td>\n",
              "      <td>Funk Generation: A Favela Love Story</td>\n",
              "      <td>Annita</td>\n",
              "      <td>3200</td>\n",
              "      <td>2023</td>\n",
              "      <td>POR</td>\n",
              "      <td>3</td>\n",
              "      <td>Electro Pop</td>\n",
              "    </tr>\n",
              "  </tbody>\n",
              "</table>\n",
              "</div>"
            ],
            "text/plain": [
              "   id                                titulo         artista  precio  fecha  \\\n",
              "0   1                                Divide      Ed Sheeran    5000   2017   \n",
              "1   2                           A Contraluz  La Vela Puerca    7500   2004   \n",
              "2   3                       Tú crees en mi?          Emilia    4200   2022   \n",
              "3   4                         Cupido - TINI    Tini Stossel    5600   2023   \n",
              "4   5  Funk Generation: A Favela Love Story          Annita    3200   2023   \n",
              "\n",
              "  idioma  n_canciones         genero  \n",
              "0     EN           16            Pop  \n",
              "1     ES           14  Rock Nacional  \n",
              "2     ES            8  Urbano Latino  \n",
              "3     ES           10            Pop  \n",
              "4    POR            3    Electro Pop  "
            ]
          },
          "execution_count": 9,
          "metadata": {},
          "output_type": "execute_result"
        }
      ],
      "source": [
        "#Vemos las últimas filas del df\n",
        "df.tail()"
      ]
    },
    {
      "cell_type": "code",
      "execution_count": null,
      "id": "c46a2203",
      "metadata": {
        "id": "c46a2203",
        "outputId": "6c572741-4e7d-4bb1-f001-ea51925cbf95"
      },
      "outputs": [
        {
          "name": "stdout",
          "output_type": "stream",
          "text": [
            "<class 'pandas.core.frame.DataFrame'>\n",
            "RangeIndex: 5 entries, 0 to 4\n",
            "Data columns (total 8 columns):\n",
            " #   Column       Non-Null Count  Dtype \n",
            "---  ------       --------------  ----- \n",
            " 0   id           5 non-null      int64 \n",
            " 1   titulo       5 non-null      object\n",
            " 2   artista      5 non-null      object\n",
            " 3   precio       5 non-null      int64 \n",
            " 4   fecha        5 non-null      int64 \n",
            " 5   idioma       5 non-null      object\n",
            " 6   n_canciones  5 non-null      int64 \n",
            " 7   genero       5 non-null      object\n",
            "dtypes: int64(4), object(4)\n",
            "memory usage: 452.0+ bytes\n"
          ]
        }
      ],
      "source": [
        "#Vemos las columnas, los nulos y los tipos de datos de cada una\n",
        "df.info()"
      ]
    },
    {
      "cell_type": "code",
      "execution_count": null,
      "id": "8ec54d9d",
      "metadata": {
        "id": "8ec54d9d",
        "outputId": "86645007-e97b-48f9-c88a-8a1e8684dfbd"
      },
      "outputs": [
        {
          "data": {
            "text/html": [
              "<div>\n",
              "<style scoped>\n",
              "    .dataframe tbody tr th:only-of-type {\n",
              "        vertical-align: middle;\n",
              "    }\n",
              "\n",
              "    .dataframe tbody tr th {\n",
              "        vertical-align: top;\n",
              "    }\n",
              "\n",
              "    .dataframe thead th {\n",
              "        text-align: right;\n",
              "    }\n",
              "</style>\n",
              "<table border=\"1\" class=\"dataframe\">\n",
              "  <thead>\n",
              "    <tr style=\"text-align: right;\">\n",
              "      <th></th>\n",
              "      <th>id</th>\n",
              "      <th>precio</th>\n",
              "      <th>fecha</th>\n",
              "      <th>n_canciones</th>\n",
              "    </tr>\n",
              "  </thead>\n",
              "  <tbody>\n",
              "    <tr>\n",
              "      <th>count</th>\n",
              "      <td>5.000000</td>\n",
              "      <td>5.000000</td>\n",
              "      <td>5.000000</td>\n",
              "      <td>5.000000</td>\n",
              "    </tr>\n",
              "    <tr>\n",
              "      <th>mean</th>\n",
              "      <td>3.000000</td>\n",
              "      <td>5100.000000</td>\n",
              "      <td>2017.800000</td>\n",
              "      <td>10.200000</td>\n",
              "    </tr>\n",
              "    <tr>\n",
              "      <th>std</th>\n",
              "      <td>1.581139</td>\n",
              "      <td>1615.549442</td>\n",
              "      <td>8.105554</td>\n",
              "      <td>5.118594</td>\n",
              "    </tr>\n",
              "    <tr>\n",
              "      <th>min</th>\n",
              "      <td>1.000000</td>\n",
              "      <td>3200.000000</td>\n",
              "      <td>2004.000000</td>\n",
              "      <td>3.000000</td>\n",
              "    </tr>\n",
              "    <tr>\n",
              "      <th>25%</th>\n",
              "      <td>2.000000</td>\n",
              "      <td>4200.000000</td>\n",
              "      <td>2017.000000</td>\n",
              "      <td>8.000000</td>\n",
              "    </tr>\n",
              "    <tr>\n",
              "      <th>50%</th>\n",
              "      <td>3.000000</td>\n",
              "      <td>5000.000000</td>\n",
              "      <td>2022.000000</td>\n",
              "      <td>10.000000</td>\n",
              "    </tr>\n",
              "    <tr>\n",
              "      <th>75%</th>\n",
              "      <td>4.000000</td>\n",
              "      <td>5600.000000</td>\n",
              "      <td>2023.000000</td>\n",
              "      <td>14.000000</td>\n",
              "    </tr>\n",
              "    <tr>\n",
              "      <th>max</th>\n",
              "      <td>5.000000</td>\n",
              "      <td>7500.000000</td>\n",
              "      <td>2023.000000</td>\n",
              "      <td>16.000000</td>\n",
              "    </tr>\n",
              "  </tbody>\n",
              "</table>\n",
              "</div>"
            ],
            "text/plain": [
              "             id       precio        fecha  n_canciones\n",
              "count  5.000000     5.000000     5.000000     5.000000\n",
              "mean   3.000000  5100.000000  2017.800000    10.200000\n",
              "std    1.581139  1615.549442     8.105554     5.118594\n",
              "min    1.000000  3200.000000  2004.000000     3.000000\n",
              "25%    2.000000  4200.000000  2017.000000     8.000000\n",
              "50%    3.000000  5000.000000  2022.000000    10.000000\n",
              "75%    4.000000  5600.000000  2023.000000    14.000000\n",
              "max    5.000000  7500.000000  2023.000000    16.000000"
            ]
          },
          "execution_count": 11,
          "metadata": {},
          "output_type": "execute_result"
        }
      ],
      "source": [
        "#Vemos las medidas descriptivas generales de las columnas numéricas\n",
        "df.describe()"
      ]
    },
    {
      "cell_type": "code",
      "execution_count": null,
      "id": "993a60a6",
      "metadata": {
        "id": "993a60a6",
        "outputId": "dd16a079-ff50-4a1e-b023-9710ba89c8b4"
      },
      "outputs": [
        {
          "data": {
            "text/plain": [
              "id             0\n",
              "titulo         0\n",
              "artista        0\n",
              "precio         0\n",
              "fecha          0\n",
              "idioma         0\n",
              "n_canciones    0\n",
              "genero         0\n",
              "dtype: int64"
            ]
          },
          "execution_count": 12,
          "metadata": {},
          "output_type": "execute_result"
        }
      ],
      "source": [
        "#Vemos si hay nulos en el df\n",
        "df.isna().sum()"
      ]
    },
    {
      "cell_type": "code",
      "execution_count": null,
      "id": "76b0b07c",
      "metadata": {
        "id": "76b0b07c",
        "outputId": "375a2edf-373f-4de9-86b1-f3775c771182"
      },
      "outputs": [
        {
          "data": {
            "image/png": "[encoded data removed]",
            "text/plain": [
              "<Figure size 3000x800 with 3 Axes>"
            ]
          },
          "metadata": {},
          "output_type": "display_data"
        }
      ],
      "source": [
        "#Vemos si hay outliers en las columnas\n",
        "fig, axes = plt.subplots(1, 3, figsize=(30, 8))\n",
        "\n",
        "sns.boxplot(y='precio', data=df, ax=axes[0])\n",
        "axes[0].set_title('Precio')\n",
        "axes[0].set_xlabel('')\n",
        "\n",
        "sns.boxplot(y='n_canciones', data=df, ax=axes[1])\n",
        "axes[1].set_title('Número de Canciones')\n",
        "axes[1].set_xlabel('')\n",
        "\n",
        "sns.boxplot(y='fecha', data=df, ax=axes[2])\n",
        "axes[2].set_title('Fecha')\n",
        "axes[2].set_xlabel('')\n",
        "\n",
        "plt.show()"
      ]
    },
    {
      "cell_type": "code",
      "execution_count": null,
      "id": "dd22f501",
      "metadata": {
        "id": "dd22f501",
        "outputId": "a90da0e2-e7a9-46f6-9a1d-ba2569aceba7"
      },
      "outputs": [
        {
          "data": {
            "text/plain": [
              "Ed Sheeran        1\n",
              "La Vela Puerca    1\n",
              "Emilia            1\n",
              "Tini Stossel      1\n",
              "Annita            1\n",
              "Name: artista, dtype: int64"
            ]
          },
          "execution_count": 15,
          "metadata": {},
          "output_type": "execute_result"
        }
      ],
      "source": [
        "#Vemos cuantos discos tiene cada artista\n",
        "df['artista'].value_counts()"
      ]
    },
    {
      "cell_type": "code",
      "execution_count": null,
      "id": "0291b7d0",
      "metadata": {
        "id": "0291b7d0",
        "outputId": "74e663a5-5a5d-4435-e7ac-aade44c2f9fb"
      },
      "outputs": [
        {
          "data": {
            "text/html": [
              "<div>\n",
              "<style scoped>\n",
              "    .dataframe tbody tr th:only-of-type {\n",
              "        vertical-align: middle;\n",
              "    }\n",
              "\n",
              "    .dataframe tbody tr th {\n",
              "        vertical-align: top;\n",
              "    }\n",
              "\n",
              "    .dataframe thead th {\n",
              "        text-align: right;\n",
              "    }\n",
              "</style>\n",
              "<table border=\"1\" class=\"dataframe\">\n",
              "  <thead>\n",
              "    <tr style=\"text-align: right;\">\n",
              "      <th></th>\n",
              "      <th>id</th>\n",
              "      <th>titulo</th>\n",
              "      <th>artista</th>\n",
              "      <th>precio</th>\n",
              "      <th>fecha</th>\n",
              "      <th>idioma</th>\n",
              "      <th>n_canciones</th>\n",
              "      <th>genero</th>\n",
              "    </tr>\n",
              "  </thead>\n",
              "  <tbody>\n",
              "    <tr>\n",
              "      <th>1</th>\n",
              "      <td>2</td>\n",
              "      <td>A Contraluz</td>\n",
              "      <td>La Vela Puerca</td>\n",
              "      <td>7500</td>\n",
              "      <td>2004</td>\n",
              "      <td>ES</td>\n",
              "      <td>14</td>\n",
              "      <td>Rock Nacional</td>\n",
              "    </tr>\n",
              "  </tbody>\n",
              "</table>\n",
              "</div>"
            ],
            "text/plain": [
              "   id       titulo         artista  precio  fecha idioma  n_canciones  \\\n",
              "1   2  A Contraluz  La Vela Puerca    7500   2004     ES           14   \n",
              "\n",
              "          genero  \n",
              "1  Rock Nacional  "
            ]
          },
          "execution_count": 16,
          "metadata": {},
          "output_type": "execute_result"
        }
      ],
      "source": [
        "#Vemos el album con el precio más alto\n",
        "df[df['precio'] == df['precio'].max()]"
      ]
    },
    {
      "cell_type": "code",
      "execution_count": null,
      "id": "3afb4894",
      "metadata": {
        "id": "3afb4894",
        "outputId": "1e091dc8-b0d3-48ad-d25f-66b0b0de83c9"
      },
      "outputs": [
        {
          "data": {
            "text/html": [
              "<div>\n",
              "<style scoped>\n",
              "    .dataframe tbody tr th:only-of-type {\n",
              "        vertical-align: middle;\n",
              "    }\n",
              "\n",
              "    .dataframe tbody tr th {\n",
              "        vertical-align: top;\n",
              "    }\n",
              "\n",
              "    .dataframe thead th {\n",
              "        text-align: right;\n",
              "    }\n",
              "</style>\n",
              "<table border=\"1\" class=\"dataframe\">\n",
              "  <thead>\n",
              "    <tr style=\"text-align: right;\">\n",
              "      <th></th>\n",
              "      <th>id</th>\n",
              "      <th>titulo</th>\n",
              "      <th>artista</th>\n",
              "      <th>precio</th>\n",
              "      <th>fecha</th>\n",
              "      <th>idioma</th>\n",
              "      <th>n_canciones</th>\n",
              "      <th>genero</th>\n",
              "    </tr>\n",
              "  </thead>\n",
              "  <tbody>\n",
              "    <tr>\n",
              "      <th>4</th>\n",
              "      <td>5</td>\n",
              "      <td>Funk Generation: A Favela Love Story</td>\n",
              "      <td>Annita</td>\n",
              "      <td>3200</td>\n",
              "      <td>2023</td>\n",
              "      <td>POR</td>\n",
              "      <td>3</td>\n",
              "      <td>Electro Pop</td>\n",
              "    </tr>\n",
              "  </tbody>\n",
              "</table>\n",
              "</div>"
            ],
            "text/plain": [
              "   id                                titulo artista  precio  fecha idioma  \\\n",
              "4   5  Funk Generation: A Favela Love Story  Annita    3200   2023    POR   \n",
              "\n",
              "   n_canciones       genero  \n",
              "4            3  Electro Pop  "
            ]
          },
          "execution_count": 17,
          "metadata": {},
          "output_type": "execute_result"
        }
      ],
      "source": [
        "#Vemos el album con el precio más bajo\n",
        "df[df['precio'] == df['precio'].min()]"
      ]
    },
    {
      "cell_type": "code",
      "execution_count": null,
      "id": "ea03bc97",
      "metadata": {
        "id": "ea03bc97",
        "outputId": "22308db8-704a-47c6-9f21-957df4507515"
      },
      "outputs": [
        {
          "data": {
            "text/html": [
              "<div>\n",
              "<style scoped>\n",
              "    .dataframe tbody tr th:only-of-type {\n",
              "        vertical-align: middle;\n",
              "    }\n",
              "\n",
              "    .dataframe tbody tr th {\n",
              "        vertical-align: top;\n",
              "    }\n",
              "\n",
              "    .dataframe thead th {\n",
              "        text-align: right;\n",
              "    }\n",
              "</style>\n",
              "<table border=\"1\" class=\"dataframe\">\n",
              "  <thead>\n",
              "    <tr style=\"text-align: right;\">\n",
              "      <th></th>\n",
              "      <th>id</th>\n",
              "      <th>titulo</th>\n",
              "      <th>artista</th>\n",
              "      <th>precio</th>\n",
              "      <th>fecha</th>\n",
              "      <th>idioma</th>\n",
              "      <th>n_canciones</th>\n",
              "      <th>genero</th>\n",
              "    </tr>\n",
              "  </thead>\n",
              "  <tbody>\n",
              "    <tr>\n",
              "      <th>0</th>\n",
              "      <td>1</td>\n",
              "      <td>Divide</td>\n",
              "      <td>Ed Sheeran</td>\n",
              "      <td>5000</td>\n",
              "      <td>2017</td>\n",
              "      <td>EN</td>\n",
              "      <td>16</td>\n",
              "      <td>Pop</td>\n",
              "    </tr>\n",
              "  </tbody>\n",
              "</table>\n",
              "</div>"
            ],
            "text/plain": [
              "   id   titulo     artista  precio  fecha idioma  n_canciones genero\n",
              "0   1   Divide  Ed Sheeran    5000   2017     EN           16    Pop"
            ]
          },
          "execution_count": 19,
          "metadata": {},
          "output_type": "execute_result"
        }
      ],
      "source": [
        "#Vemos el album con más canciones\n",
        "df[df['n_canciones'] == df['n_canciones'].max()]"
      ]
    },
    {
      "cell_type": "code",
      "execution_count": null,
      "id": "a94ac950",
      "metadata": {
        "id": "a94ac950",
        "outputId": "023b4063-eec3-4552-d1b3-216e3ec14b4f"
      },
      "outputs": [
        {
          "data": {
            "text/plain": [
              "ES     3\n",
              "EN     1\n",
              "POR    1\n",
              "Name: idioma, dtype: int64"
            ]
          },
          "execution_count": 21,
          "metadata": {},
          "output_type": "execute_result"
        }
      ],
      "source": [
        "#Vemos cuantos álbumes hay en cada idioma\n",
        "df['idioma'].value_counts()"
      ]
    },
    {
      "cell_type": "code",
      "execution_count": null,
      "id": "0bb55424",
      "metadata": {
        "id": "0bb55424",
        "outputId": "3ca17313-c87e-4c8e-a753-cc006283ba98"
      },
      "outputs": [
        {
          "data": {
            "text/plain": [
              "5100.0"
            ]
          },
          "execution_count": 22,
          "metadata": {},
          "output_type": "execute_result"
        }
      ],
      "source": [
        "#Vemos el precio promedio de los álbumes\n",
        "df['precio'].mean()"
      ]
    },
    {
      "cell_type": "code",
      "execution_count": null,
      "id": "1c01ecbe",
      "metadata": {
        "id": "1c01ecbe",
        "outputId": "fd3f963f-15d9-40d9-9a58-3744569eae1d"
      },
      "outputs": [
        {
          "data": {
            "text/html": [
              "<div>\n",
              "<style scoped>\n",
              "    .dataframe tbody tr th:only-of-type {\n",
              "        vertical-align: middle;\n",
              "    }\n",
              "\n",
              "    .dataframe tbody tr th {\n",
              "        vertical-align: top;\n",
              "    }\n",
              "\n",
              "    .dataframe thead th {\n",
              "        text-align: right;\n",
              "    }\n",
              "</style>\n",
              "<table border=\"1\" class=\"dataframe\">\n",
              "  <thead>\n",
              "    <tr style=\"text-align: right;\">\n",
              "      <th></th>\n",
              "      <th>n_canciones_prom</th>\n",
              "      <th>precio_prom</th>\n",
              "    </tr>\n",
              "    <tr>\n",
              "      <th>genero</th>\n",
              "      <th></th>\n",
              "      <th></th>\n",
              "    </tr>\n",
              "  </thead>\n",
              "  <tbody>\n",
              "    <tr>\n",
              "      <th>Electro Pop</th>\n",
              "      <td>3.0</td>\n",
              "      <td>3200.0</td>\n",
              "    </tr>\n",
              "    <tr>\n",
              "      <th>Pop</th>\n",
              "      <td>13.0</td>\n",
              "      <td>5300.0</td>\n",
              "    </tr>\n",
              "    <tr>\n",
              "      <th>Rock Nacional</th>\n",
              "      <td>14.0</td>\n",
              "      <td>7500.0</td>\n",
              "    </tr>\n",
              "    <tr>\n",
              "      <th>Urbano Latino</th>\n",
              "      <td>8.0</td>\n",
              "      <td>4200.0</td>\n",
              "    </tr>\n",
              "  </tbody>\n",
              "</table>\n",
              "</div>"
            ],
            "text/plain": [
              "               n_canciones_prom  precio_prom\n",
              "genero                                      \n",
              "Electro Pop                 3.0       3200.0\n",
              "Pop                        13.0       5300.0\n",
              "Rock Nacional              14.0       7500.0\n",
              "Urbano Latino               8.0       4200.0"
            ]
          },
          "execution_count": 25,
          "metadata": {},
          "output_type": "execute_result"
        }
      ],
      "source": [
        "#Vemos qué genero tiene más canciones por álbum en promedio\n",
        "df.groupby('genero').agg(n_canciones_prom = ('n_canciones', 'mean'), precio_prom = ('precio', 'mean'))"
      ]
    },
    {
      "cell_type": "code",
      "execution_count": null,
      "id": "aad2990a",
      "metadata": {
        "id": "aad2990a",
        "outputId": "f286010b-ddd7-4226-b2be-7acadaf32c1f"
      },
      "outputs": [
        {
          "data": {
            "text/plain": [
              "0.7285949418822334"
            ]
          },
          "execution_count": 26,
          "metadata": {},
          "output_type": "execute_result"
        }
      ],
      "source": [
        "#Parecería ver que a más canciones, mayor es el precio. Vamos a calcular a ver si hay correlación entre ambas variables\n",
        "df['precio'].corr(df['n_canciones'])"
      ]
    },
    {
      "cell_type": "code",
      "execution_count": null,
      "id": "41ef0a50",
      "metadata": {
        "id": "41ef0a50",
        "outputId": "66ac0151-dbe6-4f71-c1ed-415c97064c32"
      },
      "outputs": [
        {
          "data": {
            "image/png": "[encoded data removed]",
            "text/plain": [
              "<Figure size 640x480 with 1 Axes>"
            ]
          },
          "metadata": {},
          "output_type": "display_data"
        }
      ],
      "source": [
        "#La Correlación da bastante alta. veamosla graficamente\n",
        "\n",
        "coeficientes = np.polyfit(df['precio'], df['n_canciones'], 1)\n",
        "linea_tendencia = np.polyval(coeficientes, df['precio'])\n",
        "\n",
        "plt.scatter(df['precio'], df['n_canciones'], label='Datos')\n",
        "plt.plot(df['precio'], linea_tendencia, color='red', label='Línea de Tendencia')\n",
        "plt.title('Relación entre Precio y Número de Canciones con Línea de Tendencia')\n",
        "plt.xlabel('Precio')\n",
        "plt.ylabel('Número de Canciones')\n",
        "plt.legend()\n",
        "plt.show()"
      ]
    },
    {
      "cell_type": "code",
      "execution_count": null,
      "id": "d259ec06",
      "metadata": {
        "id": "d259ec06",
        "outputId": "a1490e0b-53f7-49fd-e7ed-e763465a2ecd"
      },
      "outputs": [
        {
          "name": "stderr",
          "output_type": "stream",
          "text": [
            "C:\\Users\\josik\\anaconda3\\Lib\\site-packages\\statsmodels\\stats\\stattools.py:74: ValueWarning: omni_normtest is not valid with less than 8 observations; 5 samples were given.\n",
            "  warn(\"omni_normtest is not valid with less than 8 observations; %i \"\n"
          ]
        },
        {
          "data": {
            "text/html": [
              "<table class=\"simpletable\">\n",
              "<caption>OLS Regression Results</caption>\n",
              "<tr>\n",
              "  <th>Dep. Variable:</th>         <td>precio</td>      <th>  R-squared:         </th> <td>   0.531</td>\n",
              "</tr>\n",
              "<tr>\n",
              "  <th>Model:</th>                   <td>OLS</td>       <th>  Adj. R-squared:    </th> <td>   0.374</td>\n",
              "</tr>\n",
              "<tr>\n",
              "  <th>Method:</th>             <td>Least Squares</td>  <th>  F-statistic:       </th> <td>   3.395</td>\n",
              "</tr>\n",
              "<tr>\n",
              "  <th>Date:</th>             <td>Tue, 14 Nov 2023</td> <th>  Prob (F-statistic):</th>  <td> 0.163</td> \n",
              "</tr>\n",
              "<tr>\n",
              "  <th>Time:</th>                 <td>00:05:53</td>     <th>  Log-Likelihood:    </th> <td> -41.582</td>\n",
              "</tr>\n",
              "<tr>\n",
              "  <th>No. Observations:</th>      <td>     5</td>      <th>  AIC:               </th> <td>   87.16</td>\n",
              "</tr>\n",
              "<tr>\n",
              "  <th>Df Residuals:</th>          <td>     3</td>      <th>  BIC:               </th> <td>   86.38</td>\n",
              "</tr>\n",
              "<tr>\n",
              "  <th>Df Model:</th>              <td>     1</td>      <th>                     </th>     <td> </td>   \n",
              "</tr>\n",
              "<tr>\n",
              "  <th>Covariance Type:</th>      <td>nonrobust</td>    <th>                     </th>     <td> </td>   \n",
              "</tr>\n",
              "</table>\n",
              "<table class=\"simpletable\">\n",
              "<tr>\n",
              "       <td></td>          <th>coef</th>     <th>std err</th>      <th>t</th>      <th>P>|t|</th>  <th>[0.025</th>    <th>0.975]</th>  \n",
              "</tr>\n",
              "<tr>\n",
              "  <th>Intercept</th>   <td> 2754.3893</td> <td> 1395.467</td> <td>    1.974</td> <td> 0.143</td> <td>-1686.610</td> <td> 7195.388</td>\n",
              "</tr>\n",
              "<tr>\n",
              "  <th>n_canciones</th> <td>  229.9618</td> <td>  124.814</td> <td>    1.842</td> <td> 0.163</td> <td> -167.253</td> <td>  627.177</td>\n",
              "</tr>\n",
              "</table>\n",
              "<table class=\"simpletable\">\n",
              "<tr>\n",
              "  <th>Omnibus:</th>       <td>   nan</td> <th>  Durbin-Watson:     </th> <td>   2.850</td>\n",
              "</tr>\n",
              "<tr>\n",
              "  <th>Prob(Omnibus):</th> <td>   nan</td> <th>  Jarque-Bera (JB):  </th> <td>   0.211</td>\n",
              "</tr>\n",
              "<tr>\n",
              "  <th>Skew:</th>          <td> 0.143</td> <th>  Prob(JB):          </th> <td>   0.900</td>\n",
              "</tr>\n",
              "<tr>\n",
              "  <th>Kurtosis:</th>      <td> 2.036</td> <th>  Cond. No.          </th> <td>    27.5</td>\n",
              "</tr>\n",
              "</table><br/><br/>Notes:<br/>[1] Standard Errors assume that the covariance matrix of the errors is correctly specified."
            ],
            "text/plain": [
              "<class 'statsmodels.iolib.summary.Summary'>\n",
              "\"\"\"\n",
              "                            OLS Regression Results                            \n",
              "==============================================================================\n",
              "Dep. Variable:                 precio   R-squared:                       0.531\n",
              "Model:                            OLS   Adj. R-squared:                  0.374\n",
              "Method:                 Least Squares   F-statistic:                     3.395\n",
              "Date:                Tue, 14 Nov 2023   Prob (F-statistic):              0.163\n",
              "Time:                        00:05:53   Log-Likelihood:                -41.582\n",
              "No. Observations:                   5   AIC:                             87.16\n",
              "Df Residuals:                       3   BIC:                             86.38\n",
              "Df Model:                           1                                         \n",
              "Covariance Type:            nonrobust                                         \n",
              "===============================================================================\n",
              "                  coef    std err          t      P>|t|      [0.025      0.975]\n",
              "-------------------------------------------------------------------------------\n",
              "Intercept    2754.3893   1395.467      1.974      0.143   -1686.610    7195.388\n",
              "n_canciones   229.9618    124.814      1.842      0.163    -167.253     627.177\n",
              "==============================================================================\n",
              "Omnibus:                          nan   Durbin-Watson:                   2.850\n",
              "Prob(Omnibus):                    nan   Jarque-Bera (JB):                0.211\n",
              "Skew:                           0.143   Prob(JB):                        0.900\n",
              "Kurtosis:                       2.036   Cond. No.                         27.5\n",
              "==============================================================================\n",
              "\n",
              "Notes:\n",
              "[1] Standard Errors assume that the covariance matrix of the errors is correctly specified.\n",
              "\"\"\""
            ]
          },
          "execution_count": 34,
          "metadata": {},
          "output_type": "execute_result"
        }
      ],
      "source": [
        "#Podemos generar un modelo de regresión lineal para ver cuánto varía el precio dependiendo de el n de canciones\n",
        "features = ['n_canciones']\n",
        "formula = \"precio ~ \" + ' + '.join(features)\n",
        "modelo = smf.ols(formula, data = df)\n",
        "modelo = modelo.fit()\n",
        "modelo.summary()"
      ]
    },
    {
      "cell_type": "code",
      "execution_count": null,
      "id": "6f87567a",
      "metadata": {
        "id": "6f87567a",
        "outputId": "e8c18e21-a939-4c03-fc02-2053e178bf49"
      },
      "outputs": [
        {
          "data": {
            "image/png": "[encoded data removed]",
            "text/plain": [
              "<Figure size 1000x800 with 2 Axes>"
            ]
          },
          "metadata": {},
          "output_type": "display_data"
        }
      ],
      "source": [
        "#Podemos ver la como evoluciona el precio y las n_canciones a lo largo del tiempo\n",
        "df_x_fecha = df.groupby('fecha').agg(n_canciones_prom = ('n_canciones', 'mean'), precio_prom = ('precio', 'mean'))\n",
        "fig, (ax1, ax2) = plt.subplots(2, 1, figsize=(10, 8), sharex=True)\n",
        "\n",
        "\n",
        "ax1.plot(df_x_fecha.index, df_x_fecha['n_canciones_prom'], label='Número de Canciones', marker='o')\n",
        "ax1.set_title('Evolución de Número de Canciones')\n",
        "ax1.set_ylabel('Número de Canciones')\n",
        "ax1.legend()\n",
        "\n",
        "ax2.plot(df_x_fecha.index, df_x_fecha['precio_prom'], label='Precio', marker='o')\n",
        "ax2.set_title('Evolución de Precio')\n",
        "ax2.set_xlabel('Fecha')\n",
        "ax2.set_ylabel('Precio')\n",
        "ax2.legend()\n",
        "plt.tight_layout()\n",
        "\n",
        "plt.show()\n"
      ]
    },
    {
      "cell_type": "code",
      "execution_count": null,
      "id": "bffca0b4",
      "metadata": {
        "id": "bffca0b4",
        "outputId": "2e3c0ed0-bc7f-4d43-ea38-e415ec147418"
      },
      "outputs": [
        {
          "data": {
            "text/html": [
              "<div>\n",
              "<style scoped>\n",
              "    .dataframe tbody tr th:only-of-type {\n",
              "        vertical-align: middle;\n",
              "    }\n",
              "\n",
              "    .dataframe tbody tr th {\n",
              "        vertical-align: top;\n",
              "    }\n",
              "\n",
              "    .dataframe thead th {\n",
              "        text-align: right;\n",
              "    }\n",
              "</style>\n",
              "<table border=\"1\" class=\"dataframe\">\n",
              "  <thead>\n",
              "    <tr style=\"text-align: right;\">\n",
              "      <th></th>\n",
              "      <th>id</th>\n",
              "      <th>titulo</th>\n",
              "      <th>artista</th>\n",
              "      <th>precio</th>\n",
              "      <th>fecha</th>\n",
              "      <th>idioma</th>\n",
              "      <th>n_canciones</th>\n",
              "      <th>genero</th>\n",
              "    </tr>\n",
              "  </thead>\n",
              "  <tbody>\n",
              "    <tr>\n",
              "      <th>0</th>\n",
              "      <td>1</td>\n",
              "      <td>Divide</td>\n",
              "      <td>Ed Sheeran</td>\n",
              "      <td>5000</td>\n",
              "      <td>2017</td>\n",
              "      <td>EN</td>\n",
              "      <td>16</td>\n",
              "      <td>Pop</td>\n",
              "    </tr>\n",
              "    <tr>\n",
              "      <th>3</th>\n",
              "      <td>4</td>\n",
              "      <td>Cupido - TINI</td>\n",
              "      <td>Tini Stossel</td>\n",
              "      <td>5600</td>\n",
              "      <td>2023</td>\n",
              "      <td>ES</td>\n",
              "      <td>10</td>\n",
              "      <td>Pop</td>\n",
              "    </tr>\n",
              "  </tbody>\n",
              "</table>\n",
              "</div>"
            ],
            "text/plain": [
              "   id         titulo       artista  precio  fecha idioma  n_canciones genero\n",
              "0   1         Divide    Ed Sheeran    5000   2017     EN           16    Pop\n",
              "3   4  Cupido - TINI  Tini Stossel    5600   2023     ES           10    Pop"
            ]
          },
          "execution_count": 43,
          "metadata": {},
          "output_type": "execute_result"
        }
      ],
      "source": [
        "#Podemos filtrar el df por el genero pop y analizarlo separado\n",
        "df_pop = df[df['genero'] == 'Pop']\n",
        "df_pop.head()"
      ]
    },
    {
      "cell_type": "code",
      "execution_count": null,
      "id": "cb221016",
      "metadata": {
        "id": "cb221016",
        "outputId": "f4eb5a23-4828-4068-e7ef-5f7e7ab969e0"
      },
      "outputs": [
        {
          "data": {
            "text/plain": [
              "13.0"
            ]
          },
          "execution_count": 44,
          "metadata": {},
          "output_type": "execute_result"
        }
      ],
      "source": [
        "df_pop['n_canciones'].mean()"
      ]
    },
    {
      "cell_type": "code",
      "execution_count": null,
      "id": "1672ce44",
      "metadata": {
        "id": "1672ce44",
        "outputId": "3be4001b-c5d5-4773-9e9e-ed5ea3469e27"
      },
      "outputs": [
        {
          "data": {
            "text/plain": [
              "array(['Ed Sheeran', 'Tini Stossel'], dtype=object)"
            ]
          },
          "execution_count": 45,
          "metadata": {},
          "output_type": "execute_result"
        }
      ],
      "source": [
        "df_pop['artista'].unique()"
      ]
    }
  ],
  "metadata": {
    "kernelspec": {
      "display_name": "Python 3 (ipykernel)",
      "language": "python",
      "name": "python3"
    },
    "language_info": {
      "codemirror_mode": {
        "name": "ipython",
        "version": 3
      },
      "file_extension": ".py",
      "mimetype": "text/x-python",
      "name": "python",
      "nbconvert_exporter": "python",
      "pygments_lexer": "ipython3",
      "version": "3.11.3"
    },
    "colab": {
      "provenance": []
    }
  },
  "nbformat": 4,
  "nbformat_minor": 5
}